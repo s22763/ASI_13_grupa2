{
 "cells": [
  {
   "cell_type": "markdown",
   "id": "bd9c5466",
   "metadata": {
    "papermill": {
     "duration": 0.003921,
     "end_time": "2023-10-16T12:31:02.584051",
     "exception": false,
     "start_time": "2023-10-16T12:31:02.580130",
     "status": "completed"
    },
    "tags": []
   },
   "source": [
    "**Libraries:**"
   ]
  },
  {
   "cell_type": "code",
   "execution_count": 1,
   "id": "5e2da925",
   "metadata": {
    "_cell_guid": "b1076dfc-b9ad-4769-8c92-a6c4dae69d19",
    "_uuid": "8f2839f25d086af736a60e9eeb907d3b93b6e0e5",
    "execution": {
     "iopub.execute_input": "2023-10-16T12:31:02.594680Z",
     "iopub.status.busy": "2023-10-16T12:31:02.594076Z",
     "iopub.status.idle": "2023-10-16T12:31:04.852761Z",
     "shell.execute_reply": "2023-10-16T12:31:04.851926Z"
    },
    "papermill": {
     "duration": 2.265683,
     "end_time": "2023-10-16T12:31:04.855324",
     "exception": false,
     "start_time": "2023-10-16T12:31:02.589641",
     "status": "completed"
    },
    "tags": []
   },
   "outputs": [],
   "source": [
    "import numpy as np # linear algebra\n",
    "import pandas as pd # data processing, CSV file I/O (e.g. pd.read_csv)\n",
    "from sklearn.preprocessing import LabelEncoder, StandardScaler\n",
    "from sklearn.ensemble import RandomForestClassifier \n",
    "from sklearn.metrics import accuracy_score, mean_squared_error, classification_report, confusion_matrix\n",
    "from sklearn.model_selection import train_test_split\n",
    "import matplotlib.pyplot as plt\n",
    "import seaborn as sns\n",
    "import os"
   ]
  },
  {
   "cell_type": "markdown",
   "id": "9d85cadc",
   "metadata": {
    "papermill": {
     "duration": 0.002865,
     "end_time": "2023-10-16T12:31:04.861497",
     "exception": false,
     "start_time": "2023-10-16T12:31:04.858632",
     "status": "completed"
    },
    "tags": []
   },
   "source": [
    "**Data input:**"
   ]
  },
  {
   "cell_type": "code",
   "execution_count": 2,
   "id": "7c8a6a77",
   "metadata": {
    "_cell_guid": "b1076dfc-b9ad-4769-8c92-a6c4dae69d19",
    "_uuid": "8f2839f25d086af736a60e9eeb907d3b93b6e0e5",
    "execution": {
     "iopub.execute_input": "2023-10-16T12:31:04.869109Z",
     "iopub.status.busy": "2023-10-16T12:31:04.868648Z",
     "iopub.status.idle": "2023-10-16T12:31:05.048476Z",
     "shell.execute_reply": "2023-10-16T12:31:05.046675Z"
    },
    "papermill": {
     "duration": 0.18673,
     "end_time": "2023-10-16T12:31:05.051251",
     "exception": false,
     "start_time": "2023-10-16T12:31:04.864521",
     "status": "completed"
    },
    "tags": []
   },
   "outputs": [
    {
     "name": "stdout",
     "output_type": "stream",
     "text": [
      "/kaggle/input/diabetes-prediction-dataset/diabetes_prediction_dataset.csv\n"
     ]
    }
   ],
   "source": [
    "def get_data(file_path):\n",
    "    for dirname, _, filenames in os.walk('/kaggle/input'):\n",
    "        for filename in filenames:\n",
    "            print(os.path.join(dirname, filename))\n",
    "    return pd.read_csv(file_path)\n",
    "\n",
    "df = get_data('/kaggle/input/diabetes-prediction-dataset/diabetes_prediction_dataset.csv')"
   ]
  },
  {
   "cell_type": "markdown",
   "id": "922a3a87",
   "metadata": {
    "papermill": {
     "duration": 0.003101,
     "end_time": "2023-10-16T12:31:05.057888",
     "exception": false,
     "start_time": "2023-10-16T12:31:05.054787",
     "status": "completed"
    },
    "tags": []
   },
   "source": [
    "**Preprocess:**"
   ]
  },
  {
   "cell_type": "code",
   "execution_count": 3,
   "id": "cd227e11",
   "metadata": {
    "execution": {
     "iopub.execute_input": "2023-10-16T12:31:05.065927Z",
     "iopub.status.busy": "2023-10-16T12:31:05.065200Z",
     "iopub.status.idle": "2023-10-16T12:31:05.126731Z",
     "shell.execute_reply": "2023-10-16T12:31:05.125776Z"
    },
    "papermill": {
     "duration": 0.06805,
     "end_time": "2023-10-16T12:31:05.129074",
     "exception": false,
     "start_time": "2023-10-16T12:31:05.061024",
     "status": "completed"
    },
    "tags": []
   },
   "outputs": [],
   "source": [
    "X = df.drop(\"diabetes\", axis=1)  # Replace \"target_column_name\" with the actual name of your target column.\n",
    "y = df[\"diabetes\"]\n",
    "\n",
    "label_encoders = {}\n",
    "for column in X.select_dtypes(include=[\"object\"]).columns:\n",
    "    label_encoders[column] = LabelEncoder()\n",
    "    X[column] = label_encoders[column].fit_transform(X[column])"
   ]
  },
  {
   "cell_type": "markdown",
   "id": "a8c01245",
   "metadata": {
    "papermill": {
     "duration": 0.002994,
     "end_time": "2023-10-16T12:31:05.135540",
     "exception": false,
     "start_time": "2023-10-16T12:31:05.132546",
     "status": "completed"
    },
    "tags": []
   },
   "source": [
    "**Split data:**"
   ]
  },
  {
   "cell_type": "code",
   "execution_count": 4,
   "id": "cc345709",
   "metadata": {
    "execution": {
     "iopub.execute_input": "2023-10-16T12:31:05.143659Z",
     "iopub.status.busy": "2023-10-16T12:31:05.142975Z",
     "iopub.status.idle": "2023-10-16T12:31:05.161299Z",
     "shell.execute_reply": "2023-10-16T12:31:05.160558Z"
    },
    "papermill": {
     "duration": 0.024621,
     "end_time": "2023-10-16T12:31:05.163235",
     "exception": false,
     "start_time": "2023-10-16T12:31:05.138614",
     "status": "completed"
    },
    "tags": []
   },
   "outputs": [],
   "source": [
    "def split_data(df, test_size=0.15, random_state=42):\n",
    "    X_train, X_test, y_train, y_test = train_test_split(X, y, test_size=test_size, random_state=random_state)\n",
    "    return X_train, X_test, y_train, y_test\n",
    "\n",
    "X_train, X_test, y_train, y_test = split_data(df)"
   ]
  },
  {
   "cell_type": "markdown",
   "id": "ebded2df",
   "metadata": {
    "papermill": {
     "duration": 0.002784,
     "end_time": "2023-10-16T12:31:05.169164",
     "exception": false,
     "start_time": "2023-10-16T12:31:05.166380",
     "status": "completed"
    },
    "tags": []
   },
   "source": [
    "**RandomForest:**"
   ]
  },
  {
   "cell_type": "code",
   "execution_count": 5,
   "id": "a262292b",
   "metadata": {
    "execution": {
     "iopub.execute_input": "2023-10-16T12:31:05.176404Z",
     "iopub.status.busy": "2023-10-16T12:31:05.176089Z",
     "iopub.status.idle": "2023-10-16T12:31:10.889057Z",
     "shell.execute_reply": "2023-10-16T12:31:10.888008Z"
    },
    "papermill": {
     "duration": 5.719083,
     "end_time": "2023-10-16T12:31:10.891238",
     "exception": false,
     "start_time": "2023-10-16T12:31:05.172155",
     "status": "completed"
    },
    "tags": []
   },
   "outputs": [
    {
     "name": "stdout",
     "output_type": "stream",
     "text": [
      "Accuracy: 0.9702\n"
     ]
    }
   ],
   "source": [
    "clf = RandomForestClassifier(n_estimators=100, random_state=42)\n",
    "clf.fit(X_train, y_train)\n",
    "\n",
    "y_pred = clf.predict(X_test)\n",
    "accuracy = accuracy_score(y_test, y_pred)\n",
    "print(f\"Accuracy: {accuracy}\")"
   ]
  },
  {
   "cell_type": "markdown",
   "id": "5c88fe40",
   "metadata": {
    "papermill": {
     "duration": 0.003042,
     "end_time": "2023-10-16T12:31:10.897788",
     "exception": false,
     "start_time": "2023-10-16T12:31:10.894746",
     "status": "completed"
    },
    "tags": []
   },
   "source": [
    "**Confusion Matrix**"
   ]
  },
  {
   "cell_type": "code",
   "execution_count": 6,
   "id": "35ef4209",
   "metadata": {
    "execution": {
     "iopub.execute_input": "2023-10-16T12:31:10.905942Z",
     "iopub.status.busy": "2023-10-16T12:31:10.905302Z",
     "iopub.status.idle": "2023-10-16T12:31:11.635024Z",
     "shell.execute_reply": "2023-10-16T12:31:11.634057Z"
    },
    "papermill": {
     "duration": 0.736196,
     "end_time": "2023-10-16T12:31:11.637054",
     "exception": false,
     "start_time": "2023-10-16T12:31:10.900858",
     "status": "completed"
    },
    "tags": []
   },
   "outputs": [
    {
     "name": "stdout",
     "output_type": "stream",
     "text": [
      "              precision    recall  f1-score   support\n",
      "\n",
      "           0       0.97      1.00      0.98     13716\n",
      "           1       0.95      0.69      0.80      1284\n",
      "\n",
      "    accuracy                           0.97     15000\n",
      "   macro avg       0.96      0.84      0.89     15000\n",
      "weighted avg       0.97      0.97      0.97     15000\n",
      "\n"
     ]
    },
    {
     "data": {
      "image/png": "[encoded data removed]",
      "text/plain": [
       "<Figure size 640x480 with 2 Axes>"
      ]
     },
     "metadata": {},
     "output_type": "display_data"
    }
   ],
   "source": [
    "con_rfc=confusion_matrix(y_test,clf.predict(X_test))\n",
    "plt.plot()\n",
    "sns.heatmap(con_rfc, annot=True)\n",
    "\n",
    "plt.xlabel('Actual')\n",
    "plt.ylabel('Predicted')\n",
    "plt.title('Confusion Matrix')\n",
    "\n",
    "print(classification_report(y_test,clf.predict(X_test)))"
   ]
  },
  {
   "cell_type": "markdown",
   "id": "2861aab5",
   "metadata": {
    "papermill": {
     "duration": 0.003447,
     "end_time": "2023-10-16T12:31:11.644153",
     "exception": false,
     "start_time": "2023-10-16T12:31:11.640706",
     "status": "completed"
    },
    "tags": []
   },
   "source": [
    "**Calculate Mean Squared Error:**"
   ]
  },
  {
   "cell_type": "code",
   "execution_count": 7,
   "id": "06c03fe1",
   "metadata": {
    "execution": {
     "iopub.execute_input": "2023-10-16T12:31:11.652531Z",
     "iopub.status.busy": "2023-10-16T12:31:11.652212Z",
     "iopub.status.idle": "2023-10-16T12:31:11.657602Z",
     "shell.execute_reply": "2023-10-16T12:31:11.656774Z"
    },
    "papermill": {
     "duration": 0.011618,
     "end_time": "2023-10-16T12:31:11.659238",
     "exception": false,
     "start_time": "2023-10-16T12:31:11.647620",
     "status": "completed"
    },
    "tags": []
   },
   "outputs": [
    {
     "name": "stdout",
     "output_type": "stream",
     "text": [
      "RMSE =  0.17262676501632068\n"
     ]
    }
   ],
   "source": [
    "from sklearn.metrics import mean_squared_error\n",
    "rmse = np.sqrt(mean_squared_error(y_test, y_pred))\n",
    "print('RMSE = ', rmse)"
   ]
  },
  {
   "cell_type": "markdown",
   "id": "fc6b6410",
   "metadata": {
    "papermill": {
     "duration": 0.003361,
     "end_time": "2023-10-16T12:31:11.666188",
     "exception": false,
     "start_time": "2023-10-16T12:31:11.662827",
     "status": "completed"
    },
    "tags": []
   },
   "source": [
    "**Save trained model:**"
   ]
  },
  {
   "cell_type": "code",
   "execution_count": 8,
   "id": "5e388f4c",
   "metadata": {
    "execution": {
     "iopub.execute_input": "2023-10-16T12:31:11.674623Z",
     "iopub.status.busy": "2023-10-16T12:31:11.673996Z",
     "iopub.status.idle": "2023-10-16T12:31:11.799887Z",
     "shell.execute_reply": "2023-10-16T12:31:11.798881Z"
    },
    "papermill": {
     "duration": 0.132196,
     "end_time": "2023-10-16T12:31:11.801855",
     "exception": false,
     "start_time": "2023-10-16T12:31:11.669659",
     "status": "completed"
    },
    "tags": []
   },
   "outputs": [
    {
     "name": "stdout",
     "output_type": "stream",
     "text": [
      "...model saved...\n"
     ]
    }
   ],
   "source": [
    "import pickle\n",
    "pickle.dump(clf, open('model.sav', 'wb'))\n",
    "print('...model saved...')"
   ]
  }
 ],
 "metadata": {
  "kernelspec": {
   "display_name": "Python 3",
   "language": "python",
   "name": "python3"
  },
  "language_info": {
   "codemirror_mode": {
    "name": "ipython",
    "version": 3
   },
   "file_extension": ".py",
   "mimetype": "text/x-python",
   "name": "python",
   "nbconvert_exporter": "python",
   "pygments_lexer": "ipython3",
   "version": "3.10.12"
  },
  "papermill": {
   "default_parameters": {},
   "duration": 12.683659,
   "end_time": "2023-10-16T12:31:12.326250",
   "environment_variables": {},
   "exception": null,
   "input_path": "__notebook__.ipynb",
   "output_path": "__notebook__.ipynb",
   "parameters": {},
   "start_time": "2023-10-16T12:30:59.642591",
   "version": "2.4.0"
  }
 },
 "nbformat": 4,
 "nbformat_minor": 5
}
